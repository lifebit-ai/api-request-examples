{
 "cells": [
  {
   "cell_type": "markdown",
   "metadata": {},
   "source": [
    "## Imports and globals"
   ]
  },
  {
   "cell_type": "code",
   "execution_count": 26,
   "metadata": {},
   "outputs": [],
   "source": [
    "import requests\n",
    "import json\n",
    "import sys\n",
    "\n",
    "# Change\n",
    "apikey = \"\"\n",
    "project_id = \"\"\n",
    "\n",
    "# Don't change\n",
    "cloudos_url = \"https://deploit.lifebit.ai\"\n",
    "workflow_id = \"395e4e814103490d2b889302\""
   ]
  },
  {
   "cell_type": "markdown",
   "metadata": {},
   "source": [
    "## Run job"
   ]
  },
  {
   "cell_type": "code",
   "execution_count": 27,
   "metadata": {},
   "outputs": [],
   "source": [
    "def send_job_request_to_cloudos(apikey, workflow_id, project_id):\n",
    "    # Prepare api request for CloudOS to run a job\n",
    "    headers = {\n",
    "        \"Content-type\": \"application/json\",\n",
    "        \"apikey\": apikey\n",
    "    }\n",
    "\n",
    "    workflow_params = [\n",
    "          {\n",
    "              \"prefix\": \"--\",\n",
    "              \"name\": \"gvcf\",\n",
    "              \"parameterKind\": \"booleanValue\"\n",
    "          }\n",
    "    ]\n",
    "\n",
    "    params = {\n",
    "        \"executionPlatform\": \"aws\",\n",
    "        \"instanceType\": \"m2.2xlarge\",\n",
    "        \"parameters\": workflow_params,\n",
    "        \"project\": project_id,\n",
    "        \"workflow\": workflow_id\n",
    "    }\n",
    "\n",
    "    r = requests.post(\"{}/api/v1/jobs\".format(cloudos_url), data=json.dumps(params), headers=headers)\n",
    "    return json.loads(r.content)[\"_id\"]"
   ]
  },
  {
   "cell_type": "code",
   "execution_count": 28,
   "metadata": {
    "scrolled": true
   },
   "outputs": [
    {
     "ename": "KeyError",
     "evalue": "'_id'",
     "output_type": "error",
     "traceback": [
      "\u001b[0;31m---------------------------------------------------------------------------\u001b[0m",
      "\u001b[0;31mKeyError\u001b[0m                                  Traceback (most recent call last)",
      "\u001b[0;32m<ipython-input-28-f452127fd25c>\u001b[0m in \u001b[0;36m<module>\u001b[0;34m\u001b[0m\n\u001b[0;32m----> 1\u001b[0;31m \u001b[0mjob_id\u001b[0m \u001b[0;34m=\u001b[0m \u001b[0msend_job_request_to_cloudos\u001b[0m\u001b[0;34m(\u001b[0m\u001b[0mapikey\u001b[0m\u001b[0;34m,\u001b[0m \u001b[0mworkflow_id\u001b[0m\u001b[0;34m,\u001b[0m \u001b[0mproject_id\u001b[0m\u001b[0;34m)\u001b[0m\u001b[0;34m\u001b[0m\u001b[0m\n\u001b[0m\u001b[1;32m      2\u001b[0m \u001b[0;32mif\u001b[0m \u001b[0mjob_id\u001b[0m\u001b[0;34m:\u001b[0m\u001b[0;34m\u001b[0m\u001b[0m\n\u001b[1;32m      3\u001b[0m     print(\"Job successfully sent to CloudOS. You can check the status \" +\n\u001b[1;32m      4\u001b[0m           \"of the job in https://cloudos.lifebit.ai/app/jobs/{}\".format(job_id))\n",
      "\u001b[0;32m<ipython-input-27-9786e593d3d1>\u001b[0m in \u001b[0;36msend_job_request_to_cloudos\u001b[0;34m(apikey, workflow_id, project_id)\u001b[0m\n\u001b[1;32m     22\u001b[0m \u001b[0;34m\u001b[0m\u001b[0m\n\u001b[1;32m     23\u001b[0m     \u001b[0mr\u001b[0m \u001b[0;34m=\u001b[0m \u001b[0mrequests\u001b[0m\u001b[0;34m.\u001b[0m\u001b[0mpost\u001b[0m\u001b[0;34m(\u001b[0m\u001b[0;34m\"{}/api/v1/jobs\"\u001b[0m\u001b[0;34m.\u001b[0m\u001b[0mformat\u001b[0m\u001b[0;34m(\u001b[0m\u001b[0mcloudos_url\u001b[0m\u001b[0;34m)\u001b[0m\u001b[0;34m,\u001b[0m \u001b[0mdata\u001b[0m\u001b[0;34m=\u001b[0m\u001b[0mjson\u001b[0m\u001b[0;34m.\u001b[0m\u001b[0mdumps\u001b[0m\u001b[0;34m(\u001b[0m\u001b[0mparams\u001b[0m\u001b[0;34m)\u001b[0m\u001b[0;34m,\u001b[0m \u001b[0mheaders\u001b[0m\u001b[0;34m=\u001b[0m\u001b[0mheaders\u001b[0m\u001b[0;34m)\u001b[0m\u001b[0;34m\u001b[0m\u001b[0m\n\u001b[0;32m---> 24\u001b[0;31m     \u001b[0;32mreturn\u001b[0m \u001b[0mjson\u001b[0m\u001b[0;34m.\u001b[0m\u001b[0mloads\u001b[0m\u001b[0;34m(\u001b[0m\u001b[0mr\u001b[0m\u001b[0;34m.\u001b[0m\u001b[0mcontent\u001b[0m\u001b[0;34m)\u001b[0m\u001b[0;34m[\u001b[0m\u001b[0;34m\"_id\"\u001b[0m\u001b[0;34m]\u001b[0m\u001b[0;34m\u001b[0m\u001b[0m\n\u001b[0m",
      "\u001b[0;31mKeyError\u001b[0m: '_id'"
     ]
    }
   ],
   "source": [
    "job_id = send_job_request_to_cloudos(apikey, workflow_id, project_id)\n",
    "if job_id:\n",
    "    print(\"Job successfully sent to CloudOS. You can check the status \" +\n",
    "          \"of the job in https://cloudos.lifebit.ai/app/jobs/{}\".format(job_id))"
   ]
  }
 ],
 "metadata": {
  "kernelspec": {
   "display_name": "Python 3",
   "language": "python",
   "name": "python3"
  },
  "language_info": {
   "codemirror_mode": {
    "name": "ipython",
    "version": 3
   },
   "file_extension": ".py",
   "mimetype": "text/x-python",
   "name": "python",
   "nbconvert_exporter": "python",
   "pygments_lexer": "ipython3",
   "version": "3.6.5"
  }
 },
 "nbformat": 4,
 "nbformat_minor": 2
}
