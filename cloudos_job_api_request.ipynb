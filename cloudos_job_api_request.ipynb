{
 "cells": [
  {
   "cell_type": "markdown",
   "metadata": {},
   "source": [
    "## Imports and globals\n",
    "\n",
    "Here you will have to set you own `apikey` by replacing the `enter-your-api-key-here` text."
   ]
  },
  {
   "cell_type": "code",
   "execution_count": 1,
   "metadata": {},
   "outputs": [],
   "source": [
    "import requests\n",
    "import json\n",
    "import sys\n",
    "\n",
    "# Change apikey with the apikey retrieved from CloudOS' webpage\n",
    "apikey = \"enter-your-api-key-here\"\n",
    "\n",
    "# This is the url for CloudOS service. Do not change it!\n",
    "cloudos_url = \"https://cloudos.lifebit.ai\""
   ]
  },
  {
   "cell_type": "markdown",
   "metadata": {},
   "source": [
    "## Fetch project id\n",
    "\n",
    "In order to run any job in CloudOS you need to have a project to which you will associate your jobs. Therefore, you need to retrieve the project id for the project name in which you want to associated the job that you are running. For example, you may want to run the job within the `demo` project!"
   ]
  },
  {
   "cell_type": "code",
   "execution_count": 2,
   "metadata": {},
   "outputs": [],
   "source": [
    "# This function will fetch the project id for a given project name\n",
    "def fetch_cloudos_project_id(apikey, project_name):\n",
    "    data = {\"apikey\": apikey}\n",
    "    r = requests.get(\"{}/api/v1/projects\".format(cloudos_url), params=data)\n",
    "    for project in json.loads(r.content):\n",
    "        if project[\"name\"] == project_name:\n",
    "            return project[\"_id\"]\n",
    "    "
   ]
  },
  {
   "cell_type": "code",
   "execution_count": 3,
   "metadata": {},
   "outputs": [],
   "source": [
    "project_id = fetch_cloudos_project_id(apikey, \"Demo\")\n",
    "if not project_id:\n",
    "    sys.exit(\"Project id couldn't be find. Check that you provided a valid project name\")"
   ]
  },
  {
   "cell_type": "markdown",
   "metadata": {},
   "source": [
    "## Fetch workflow id\n",
    "\n",
    "In order to fetch workflow id you will need to know the workflow name that you are looking for in CloudOS and then you can request the workflow id to our api with the following snippet:"
   ]
  },
  {
   "cell_type": "code",
   "execution_count": 4,
   "metadata": {},
   "outputs": [],
   "source": [
    "# This function will fetch the workflow id for a given workflow name\n",
    "def fetch_cloudos_workflow_id(apikey, workflow_name):\n",
    "    data = {\"apikey\": apikey}\n",
    "    r = requests.get(\"{}/api/v1/workflows\".format(cloudos_url), params=data)\n",
    "    for workflow in json.loads(r.content):\n",
    "        if workflow[\"name\"] == workflow_name:\n",
    "            return workflow[\"_id\"]"
   ]
  },
  {
   "cell_type": "code",
   "execution_count": 5,
   "metadata": {},
   "outputs": [],
   "source": [
    "workflow_id = fetch_cloudos_workflow_id(apikey, \"GWAS\")\n",
    "if not workflow_id:\n",
    "    sys.exit(\"workflow id couldn't be find. Check that you provided a valid workflow name\")"
   ]
  },
  {
   "cell_type": "markdown",
   "metadata": {},
   "source": [
    "## Running the job and checking it's status\n",
    "\n",
    "The following snippet takes the ids fetch above and makes a request to CloudOS api:"
   ]
  },
  {
   "cell_type": "code",
   "execution_count": 6,
   "metadata": {},
   "outputs": [],
   "source": [
    "def send_job_request_to_cloudos(apikey, workflow_id, project_id):\n",
    "    # Prepare api request for CloudOS to run a job\n",
    "    headers = {\n",
    "        \"Content-type\": \"application/json\",\n",
    "        \"apikey\": apikey\n",
    "    }\n",
    "\n",
    "    workflow_params = [\n",
    "       {\n",
    "         \"name\": \"input_param\",\n",
    "         \"prefix\": \"--\",\n",
    "         \"parameterKind\": \"textValue\",\n",
    "         \"textValue\": \"some value\"\n",
    "       }\n",
    "    ]\n",
    "\n",
    "    params = {\n",
    "        \"executionPlatform\": \"aws\",\n",
    "        \"instanceType\": \"m2.2xlarge\",\n",
    "        \"parameters\": workflow_params,\n",
    "        \"project\": project_id,\n",
    "        \"workflow\": workflow_id\n",
    "    }\n",
    "\n",
    "    r = requests.post(\"{}/api/v1/jobs\".format(cloudos_url), data=json.dumps(params), headers=headers)\n",
    "    return json.loads(r.content)[\"_id\"]"
   ]
  },
  {
   "cell_type": "code",
   "execution_count": 7,
   "metadata": {
    "scrolled": true
   },
   "outputs": [
    {
     "name": "stdout",
     "output_type": "stream",
     "text": [
      "Job successfully sent to CloudOS. You can check the status of the job in https://cloudos.lifebit.ai/app/jobs/job_id\n"
     ]
    }
   ],
   "source": [
    "job_id = send_job_request_to_cloudos(apikey, workflow_id, project_id)\n",
    "if job_id:\n",
    "    print(\"Job successfully sent to CloudOS. You can check the status \" +\n",
    "          \"of the job in https://cloudos.lifebit.ai/app/jobs/{}\".format(job_id))"
   ]
  }
 ],
 "metadata": {
  "kernelspec": {
   "display_name": "Python 3",
   "language": "python",
   "name": "python3"
  },
  "language_info": {
   "codemirror_mode": {
    "name": "ipython",
    "version": 3
   },
   "file_extension": ".py",
   "mimetype": "text/x-python",
   "name": "python",
   "nbconvert_exporter": "python",
   "pygments_lexer": "ipython3",
   "version": "3.7.3"
  }
 },
 "nbformat": 4,
 "nbformat_minor": 2
}
