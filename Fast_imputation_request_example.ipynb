{
 "cells": [
  {
   "cell_type": "markdown",
   "metadata": {},
   "source": [
    "# Fast imputation module - example job request"
   ]
  },
  {
   "cell_type": "markdown",
   "metadata": {},
   "source": [
    "## Imports and globals\n",
    "\n",
    "Here you will have to set you own `apikey` by replacing the `enter-your-api-key-here` text."
   ]
  },
  {
   "cell_type": "code",
   "execution_count": null,
   "metadata": {},
   "outputs": [],
   "source": [
    "import requests\n",
    "import json\n",
    "import sys\n",
    "\n",
    "# Change apikey with the apikey retrieved from deploit's webpage\n",
    "apikey = \"enter-your-api-key-here\"\n",
    "\n",
    "# This is the url for deploit service. Do not change it!\n",
    "deploit_url = \"https://deploit.lifebit.ai\""
   ]
  },
  {
   "cell_type": "markdown",
   "metadata": {},
   "source": [
    "## Fetch project id\n",
    "\n",
    "In order to run any job in Deploit you need to have a project to which you will associate your jobs. Therefore, you need to retrieve the project id for the project name in which you want to associated the job that you are running. For example, you may want to run the job within the `demo` project!"
   ]
  },
  {
   "cell_type": "code",
   "execution_count": null,
   "metadata": {},
   "outputs": [],
   "source": [
    "# This function will fetch the project id for a given project name\n",
    "def fetch_deploit_project_id(apikey, project_name):\n",
    "    data = {\"apikey\": apikey}\n",
    "    r = requests.get(\"{}/api/v1/projects\".format(deploit_url), params=data)\n",
    "    for project in json.loads(r.content):\n",
    "        if project[\"name\"] == project_name:\n",
    "            return project[\"_id\"]"
   ]
  },
  {
   "cell_type": "code",
   "execution_count": null,
   "metadata": {},
   "outputs": [],
   "source": [
    "project_id = fetch_deploit_project_id(apikey, \"Demo\")\n",
    "if not project_id:\n",
    "    sys.exit(\"Project id couldn't be find. Check that you provided a valid project name\")"
   ]
  },
  {
   "cell_type": "markdown",
   "metadata": {},
   "source": [
    "## Fetch workflow id\n",
    "\n",
    "Then let's fetch the workflow id for the Fast imputation module:"
   ]
  },
  {
   "cell_type": "code",
   "execution_count": null,
   "metadata": {},
   "outputs": [],
   "source": [
    "# This function will fetch the workflow id for a given workflow name\n",
    "def fetch_deploit_workflow_id(apikey, workflow_name):\n",
    "    data = {\"apikey\": apikey}\n",
    "    r = requests.get(\"{}/api/v1/workflows\".format(deploit_url), params=data)\n",
    "    for workflow in json.loads(r.content):\n",
    "        if workflow[\"name\"] == workflow_name:\n",
    "            return workflow[\"_id\"]"
   ]
  },
  {
   "cell_type": "code",
   "execution_count": null,
   "metadata": {},
   "outputs": [],
   "source": [
    "workflow_id = fetch_deploit_workflow_id(apikey, \"Fast imputation\")\n",
    "if not workflow_id:\n",
    "    sys.exit(\"workflow id couldn't be find. Check that you provided a valid workflow name\")"
   ]
  },
  {
   "cell_type": "markdown",
   "metadata": {},
   "source": [
    "## Running the job and checking it's status\n",
    "\n",
    "The following snippet takes the ids fetch above and makes a request to deploit api:"
   ]
  },
  {
   "cell_type": "code",
   "execution_count": null,
   "metadata": {},
   "outputs": [],
   "source": [
    "def send_job_request_to_deploit(apikey, workflow_id, project_id):\n",
    "    # Prepare api request for deploit to run a job\n",
    "    headers = {\n",
    "        \"Content-type\": \"application/json\",\n",
    "        \"apikey\": apikey\n",
    "    }\n",
    "\n",
    "    # This parameter contains example files that are available in deploit's featured datasets.\n",
    "    workflow_params = [\n",
    "       {\n",
    "         \"name\": \"genotypes_path\",\n",
    "         \"prefix\": \"--\",\n",
    "         \"dataItemEmbedded\": {\n",
    "            \"type\": \"S3File\",\n",
    "            \"data\": {\n",
    "              \"name\": \"uk35C650_20170608144013.txt\",\n",
    "              \"s3BucketName\": \"lifebit-featured-datasets\",\n",
    "              \"s3ObjectKey\": \"modules/ancestry/uk35C650_20170608144013.txt\"\n",
    "            }\n",
    "         }\n",
    "       }\n",
    "    ]\n",
    "\n",
    "    params = {\n",
    "        \"executionPlatform\": \"aws\",\n",
    "        # Here we are setting the proper on demand instance for the module.\n",
    "        # Note that smaller instances might not get the job done.\n",
    "        \"instanceType\": \"m4.2xlarge\",\n",
    "        \"parameters\": workflow_params,\n",
    "        \"project\": project_id,\n",
    "        \"workflow\": workflow_id\n",
    "    }\n",
    "\n",
    "    r = requests.post(\"{}/api/v1/jobs\".format(deploit_url), data=json.dumps(params), headers=headers)\n",
    "    return json.loads(r.content)[\"_id\"]"
   ]
  },
  {
   "cell_type": "code",
   "execution_count": null,
   "metadata": {
    "scrolled": true
   },
   "outputs": [],
   "source": [
    "job_id = send_job_request_to_deploit(apikey, workflow_id, project_id)\n",
    "# If everything works as expected this should print an address to deploit job page.\n",
    "if job_id:\n",
    "    print(\"Job successfully sent to deploit. You can check the status \" +\n",
    "          \"of the job in {}/app/jobs/{}\".format(deploit_url, job_id))"
   ]
  },
  {
   "cell_type": "code",
   "execution_count": null,
   "metadata": {},
   "outputs": [],
   "source": []
  }
 ],
 "metadata": {
  "kernelspec": {
   "display_name": "Python 3",
   "language": "python",
   "name": "python3"
  },
  "language_info": {
   "codemirror_mode": {
    "name": "ipython",
    "version": 3
   },
   "file_extension": ".py",
   "mimetype": "text/x-python",
   "name": "python",
   "nbconvert_exporter": "python",
   "pygments_lexer": "ipython3",
   "version": "3.7.3"
  }
 },
 "nbformat": 4,
 "nbformat_minor": 2
}
