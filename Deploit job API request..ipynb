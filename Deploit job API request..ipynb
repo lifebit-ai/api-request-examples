{
 "cells": [
  {
   "cell_type": "code",
   "execution_count": 106,
   "metadata": {},
   "outputs": [],
   "source": [
    "import requests\n",
    "import json\n",
    "import sys\n",
    "\n",
    "# Change apikey with the apikey retrieved from deploit's webpage\n",
    "apikey = \"enter-your-api-key-here\"\n",
    "deploit_url = \"https://deploit.lifebit.ai\""
   ]
  },
  {
   "cell_type": "code",
   "execution_count": 107,
   "metadata": {},
   "outputs": [],
   "source": [
    "# This function will fetch the project id for a given project name\n",
    "def fetch_deploit_project_id(apikey, project_name):\n",
    "    data = {\"apikey\": apikey}\n",
    "    r = requests.get(\"{}/api/v1/projects\".format(deploit_url), params=data)\n",
    "    for project in json.loads(r.content):\n",
    "        if project[\"name\"] == project_name:\n",
    "            return project[\"_id\"]\n",
    "    "
   ]
  },
  {
   "cell_type": "code",
   "execution_count": 108,
   "metadata": {},
   "outputs": [],
   "source": [
    "project_id = fetch_deploit_project_id(apikey, \"Demo\")\n",
    "if not project_id:\n",
    "    sys.exit(\"Project id couldn't be find. Check that you provided a valid project name\")"
   ]
  },
  {
   "cell_type": "code",
   "execution_count": 109,
   "metadata": {},
   "outputs": [],
   "source": [
    "# This function will fetch the pipeline id for a given pipeline name\n",
    "def fetch_deploit_pipeline_id(apikey, pipeline_name):\n",
    "    data = {\"apikey\": apikey}\n",
    "    r = requests.get(\"{}/api/v1/workflows\".format(deploit_url), params=data)\n",
    "    for pipeline in json.loads(r.content):\n",
    "        if pipeline[\"name\"] == pipeline_name:\n",
    "            return pipeline[\"_id\"]"
   ]
  },
  {
   "cell_type": "code",
   "execution_count": 110,
   "metadata": {},
   "outputs": [],
   "source": [
    "pipeline_id = fetch_deploit_pipeline_id(apikey, \"GWAS\")\n",
    "if not pipeline_id:\n",
    "    sys.exit(\"Pipeline id couldn't be find. Check that you provided a valid pipeline name\")"
   ]
  },
  {
   "cell_type": "code",
   "execution_count": 111,
   "metadata": {},
   "outputs": [],
   "source": [
    "def send_job_request_to_deploit(apikey, pipeline_id, project_id):\n",
    "    # Prepare api request for deploit to run a job\n",
    "    headers = {\n",
    "        \"Content-type\": \"application/json\",\n",
    "        \"apikey\": apikey\n",
    "    }\n",
    "\n",
    "    pipeline_params = [\n",
    "       {\n",
    "         \"name\": \"input_param\",\n",
    "         \"prefix\": \"--\",\n",
    "         \"parameterKind\": \"textValue\",\n",
    "         \"textValue\": \"some value\"\n",
    "       }\n",
    "    ]\n",
    "\n",
    "    params = {\n",
    "        \"executionPlatform\": \"aws\",\n",
    "        \"instanceType\": \"m2.2xlarge\",\n",
    "        \"parameters\": pipeline_params,\n",
    "        \"project\": project_id,\n",
    "        \"workflow\": pipeline_id\n",
    "    }\n",
    "\n",
    "    r = requests.post(\"{}/api/v1/jobs\".format(deploit_url), data=json.dumps(params), headers=headers)\n",
    "    return json.loads(r.content)[\"_id\"]"
   ]
  },
  {
   "cell_type": "code",
   "execution_count": 112,
   "metadata": {},
   "outputs": [
    {
     "name": "stdout",
     "output_type": "stream",
     "text": [
      "Job successfully sent to deploit. You can check the status of the job in https://deploit.lifebit.ai/app/jobs/generated_job_id\n"
     ]
    }
   ],
   "source": [
    "job_id = send_job_request_to_deploit(apikey, pipeline_id, project_id)\n",
    "if job_id:\n",
    "    print(\"Job successfully sent to deploit. You can check the status \" +\n",
    "          \"of the job in https://deploit.lifebit.ai/app/jobs/{}\".format(job_id))"
   ]
  },
  {
   "cell_type": "code",
   "execution_count": null,
   "metadata": {},
   "outputs": [],
   "source": []
  }
 ],
 "metadata": {
  "kernelspec": {
   "display_name": "Python 3",
   "language": "python",
   "name": "python3"
  },
  "language_info": {
   "codemirror_mode": {
    "name": "ipython",
    "version": 3
   },
   "file_extension": ".py",
   "mimetype": "text/x-python",
   "name": "python",
   "nbconvert_exporter": "python",
   "pygments_lexer": "ipython3",
   "version": "3.7.3"
  }
 },
 "nbformat": 4,
 "nbformat_minor": 2
}
